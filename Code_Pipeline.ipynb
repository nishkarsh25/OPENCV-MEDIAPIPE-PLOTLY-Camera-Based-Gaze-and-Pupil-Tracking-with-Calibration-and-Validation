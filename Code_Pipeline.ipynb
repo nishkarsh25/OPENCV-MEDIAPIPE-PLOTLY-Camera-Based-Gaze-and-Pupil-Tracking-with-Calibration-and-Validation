{
 "cells": [
  {
   "cell_type": "code",
   "execution_count": null,
   "id": "c57c155c",
   "metadata": {
    "vscode": {
     "languageId": "plaintext"
    }
   },
   "outputs": [],
   "source": [
    "import cv2\n",
    "import numpy as np\n",
    "import glob\n",
    "\n",
    "# Chessboard settings (adjust based on your board)\n",
    "chessboard_size = (10, 7)  # 11x8 chessboard dimensions\n",
    "square_size = 25  # in mm (for real-world scale, optional)\n",
    "\n",
    "# Prepare object points (3D)\n",
    "objp = np.zeros((np.prod(chessboard_size), 3), np.float32)\n",
    "objp[:, :2] = np.mgrid[0:chessboard_size[0], 0:chessboard_size[1]].T.reshape(-1, 2) * square_size\n",
    "\n",
    "objpoints = []  # 3D world points\n",
    "imgpoints = []  # 2D image points\n",
    "\n",
    "# Load calibration images\n",
    "images = glob.glob(\"Calibration_Images/*.jpg\")  # Only JPG  # Match all files # Path to saved images\n",
    "\n",
    "for fname in images:\n",
    "    img = cv2.imread(fname)\n",
    "    gray = cv2.cvtColor(img, cv2.COLOR_BGR2GRAY)\n",
    "\n",
    "    # Find chessboard corners\n",
    "    ret, corners = cv2.findChessboardCorners(gray, chessboard_size, None)\n",
    "\n",
    "    if ret:\n",
    "        objpoints.append(objp)\n",
    "        imgpoints.append(corners)\n",
    "\n",
    "        # Draw and show corners\n",
    "        cv2.drawChessboardCorners(img, chessboard_size, corners, ret)\n",
    "        cv2.imshow('Corners', img)\n",
    "        cv2.waitKey(500)\n",
    "\n",
    "cv2.destroyAllWindows()\n",
    "\n",
    "# Camera Calibration\n",
    "ret, camera_matrix, dist_coeffs, rvecs, tvecs = cv2.calibrateCamera(objpoints, imgpoints, gray.shape[::-1], None, None)\n",
    "\n",
    "# Save calibration results\n",
    "np.savez(\"camera_calibration.npz\", camera_matrix=camera_matrix, dist_coeffs=dist_coeffs)\n",
    "\n",
    "print(\"Camera Matrix:\\n\", camera_matrix)\n",
    "print(\"Distortion Coefficients:\\n\", dist_coeffs)"
   ]
  },
  {
   "cell_type": "code",
   "execution_count": null,
   "id": "b7c9ee8e",
   "metadata": {
    "vscode": {
     "languageId": "plaintext"
    }
   },
   "outputs": [],
   "source": [
    "total_error = 0\n",
    "for i in range(len(objpoints)):\n",
    "    imgpoints2, _ = cv2.projectPoints(objpoints[i], rvecs[i], tvecs[i], camera_matrix, dist_coeffs)\n",
    "    error = cv2.norm(imgpoints[i], imgpoints2, cv2.NORM_L2) / len(imgpoints2)\n",
    "    total_error += error\n",
    "print(\"Mean Reprojection Error:\", total_error / len(objpoints))"
   ]
  },
  {
   "cell_type": "code",
   "execution_count": null,
   "id": "5ac5839d",
   "metadata": {
    "vscode": {
     "languageId": "plaintext"
    }
   },
   "outputs": [],
   "source": [
    "# Load camera calibration parameters\n",
    "calibration_data = np.load(\"camera_calibration.npz\")\n",
    "camera_matrix = calibration_data[\"camera_matrix\"]\n",
    "dist_coeffs = calibration_data[\"dist_coeffs\"]"
   ]
  },
  {
   "cell_type": "code",
   "execution_count": null,
   "id": "49e64bd1",
   "metadata": {
    "vscode": {
     "languageId": "plaintext"
    }
   },
   "outputs": [],
   "source": [
    "import cv2\n",
    "\n",
    "\n",
    "\n",
    "\n",
    "\n",
    "\n",
    "\n",
    "\n",
    "\n",
    "\n",
    "\n",
    "\n",
    "\n",
    "\n",
    "\n",
    "\n",
    "\n",
    "\n",
    "\n",
    "\n",
    "\n",
    "\n",
    "\n",
    "\n",
    "\n",
    "\n",
    "\n",
    "\n",
    "\n",
    "\n",
    "\n",
    "\n",
    "\n",
    "\n",
    "\n",
    "\n",
    "\n",
    "\n",
    "\n",
    "\n",
    "        \n",
    "\n",
    "        \n",
    "\n",
    "    \n",
    "\n",
    "    \n",
    "    \n",
    "\n",
    "\n",
    "\n",
    "\n",
    "\n",
    "\n",
    "\n",
    "\n",
    "\n",
    "\n",
    "\n",
    "\n",
    "\n",
    "\n"
   ]
  }
 ],
 "metadata": {
  "language_info": {
   "name": "python"
  }
 },
 "nbformat": 4,
 "nbformat_minor": 5
}

{
 "cells": [
  {
   "cell_type": "code",
   "execution_count": null,
   "id": "c57c155c",
   "metadata": {
    "vscode": {
     "languageId": "plaintext"
    }
   },
   "outputs": [],
   "source": [
    "import cv2\n",
    "import numpy as np\n",
    "import glob\n",
    "\n",
    "# Chessboard settings (adjust based on your board)\n",
    "chessboard_size = (10, 7)  # 11x8 chessboard dimensions\n",
    "square_size = 25  # in mm (for real-world scale, optional)\n",
    "\n",
    "# Prepare object points (3D)\n",
    "objp = np.zeros((np.prod(chessboard_size), 3), np.float32)\n",
    "objp[:, :2] = np.mgrid[0:chessboard_size[0], 0:chessboard_size[1]].T.reshape(-1, 2) * square_size\n",
    "\n",
    "\n",
    "\n",
    "\n",
    "\n",
    "\n",
    "\n",
    "\n",
    "\n",
    "\n",
    "\n",
    "\n",
    "\n"
   ]
  }
 ],
 "metadata": {
  "language_info": {
   "name": "python"
  }
 },
 "nbformat": 4,
 "nbformat_minor": 5
}
